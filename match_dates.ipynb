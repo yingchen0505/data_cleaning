{
 "cells": [
  {
   "cell_type": "code",
   "execution_count": 1,
   "metadata": {},
   "outputs": [
    {
     "name": "stdout",
     "output_type": "stream",
     "text": [
      "['Sheet1']\n"
     ]
    }
   ],
   "source": [
    "from openpyxl import Workbook\n",
    "from openpyxl import load_workbook\n",
    "wb = Workbook()\n",
    "wb = load_workbook('hchi_nov18.xlsx')\n",
    "print(wb.sheetnames)"
   ]
  },
  {
   "cell_type": "code",
   "execution_count": 5,
   "metadata": {},
   "outputs": [
    {
     "name": "stderr",
     "output_type": "stream",
     "text": [
      "C:\\Users\\Yingchen\\Anaconda3\\envs\\excel\\lib\\site-packages\\ipykernel_launcher.py:1: DeprecationWarning: Call to deprecated function get_sheet_by_name (Use wb[sheetname]).\n",
      "  \"\"\"Entry point for launching an IPython kernel.\n"
     ]
    }
   ],
   "source": [
    "ws = wb.get_sheet_by_name('Sheet1')\n",
    "ws_output = wb.create_sheet(\"OutputSheet\")\n",
    "\n",
    "# two indices\n",
    "# if two datetimes are equal, copy datetime & two values to unique list\n",
    "# if two datetimes not equal, copy the smaller datetime & value to unique list, don't advance the index of the later datetime\n",
    "\n",
    "# wb1.save('file2.xlsx')\n",
    "\n",
    "index1 = 2\n",
    "index2 = 2\n",
    "output_index = 2\n",
    "\n",
    "MIN_ROW = 2\n",
    "DATE_COL_1 = 1\n",
    "VAL_COL_1 = 2\n",
    "DATE_COL_2 = 4\n",
    "VAL_COL_2 = 5\n",
    "DATE_COL_OUTPUT = 1\n",
    "VAL_COL_OUTPUT_1 = 2\n",
    "VAL_COL_OUTPUT_2 = 3\n",
    "\n",
    "for i in range(MIN_ROW, 300):\n",
    "# for i in range(MIN_ROW, ws.max_row + 1):\n",
    "\n",
    "    date1 = ws.cell(index1, DATE_COL_1).value\n",
    "    date2 = ws.cell(index2, DATE_COL_2).value\n",
    "    output_date_cell = ws_output.cell(output_index, DATE_COL_OUTPUT)\n",
    "    if (date1 == date2):\n",
    "        \n",
    "        output_date_cell.value = date1\n",
    "#         print(output_date_cell.value)\n",
    "        \n",
    "        # Copy both values to output sheet\n",
    "        ws_output.cell(output_index, VAL_COL_OUTPUT_1).value = ws.cell(index1, VAL_COL_1).value\n",
    "        ws_output.cell(output_index, VAL_COL_OUTPUT_2).value = ws.cell(index2, VAL_COL_2).value\n",
    "        \n",
    "#         print(ws_output.cell(output_index, VAL_COL_OUTPUT_1).value)\n",
    "#         print(ws_output.cell(output_index, VAL_COL_OUTPUT_2).value)\n",
    "        \n",
    "        # Update indices\n",
    "        index1 += 1\n",
    "        index2 += 1\n",
    "        output_index += 1\n",
    "        \n",
    "    elif (date1 < date2):\n",
    "#         break\n",
    "        output_date_cell.value = date1\n",
    "        \n",
    "        # Copy date1 value to output sheet\n",
    "        ws_output.cell(output_index, VAL_COL_OUTPUT_1).value = ws.cell(index1, VAL_COL_1).value\n",
    "        \n",
    "        # Update indices\n",
    "        index1 += 1\n",
    "        output_index += 1\n",
    "    \n",
    "    elif (date2 < date1):\n",
    "#         break\n",
    "        output_date_cell.value = date2\n",
    "        \n",
    "        # Copy date2 value to output sheet\n",
    "        ws_output.cell(output_index, VAL_COL_OUTPUT_2).value = ws.cell(index1, VAL_COL_2).value\n",
    "        \n",
    "        # Update indices\n",
    "        index2 += 1\n",
    "        output_index += 1\n",
    "    "
   ]
  },
  {
   "cell_type": "code",
   "execution_count": 6,
   "metadata": {},
   "outputs": [],
   "source": [
    "wb.save(filename = 'output_sheets.xlsx')"
   ]
  },
  {
   "cell_type": "code",
   "execution_count": null,
   "metadata": {},
   "outputs": [],
   "source": []
  }
 ],
 "metadata": {
  "kernelspec": {
   "display_name": "Python 3",
   "language": "python",
   "name": "python3"
  },
  "language_info": {
   "codemirror_mode": {
    "name": "ipython",
    "version": 3
   },
   "file_extension": ".py",
   "mimetype": "text/x-python",
   "name": "python",
   "nbconvert_exporter": "python",
   "pygments_lexer": "ipython3",
   "version": "3.7.5"
  }
 },
 "nbformat": 4,
 "nbformat_minor": 2
}
