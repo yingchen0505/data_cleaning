{
 "cells": [
  {
   "cell_type": "code",
   "execution_count": 1,
   "metadata": {},
   "outputs": [
    {
     "name": "stdout",
     "output_type": "stream",
     "text": [
      "['Sheet1']\n"
     ]
    }
   ],
   "source": [
    "from openpyxl import Workbook\n",
    "from openpyxl import load_workbook\n",
    "wb = Workbook()\n",
    "wb = load_workbook('hchi_nov18.xlsx')\n",
    "print(wb.sheetnames)\n",
    "# wb.save(filename = 'output_sheets.xlsx')"
   ]
  },
  {
   "cell_type": "code",
   "execution_count": 10,
   "metadata": {},
   "outputs": [
    {
     "name": "stdout",
     "output_type": "stream",
     "text": [
      "2018-11-07 17:15:00\n",
      "2018-11-07 17:16:00\n",
      "2018-11-07 17:17:00\n",
      "2018-11-07 17:18:00\n"
     ]
    },
    {
     "name": "stderr",
     "output_type": "stream",
     "text": [
      "C:\\Users\\Yingchen\\Anaconda3\\envs\\excel\\lib\\site-packages\\ipykernel_launcher.py:1: DeprecationWarning: Call to deprecated function get_sheet_by_name (Use wb[sheetname]).\n",
      "  \"\"\"Entry point for launching an IPython kernel.\n"
     ]
    }
   ],
   "source": [
    "ws = wb.get_sheet_by_name('Sheet1')\n",
    "ws_output = create_sheet(\"OutputSheet\")\n",
    "\n",
    "# two indices i & j\n",
    "# if two datetimes are equal, copy datetime & two values to unique list\n",
    "# if two datetimes not equal, copy the smaller datetime & value to unique list, don't advance the index of the later datetime\n",
    "\n",
    "sheet1.cell(row=i,column=j).value = sheet.cell(row=i,column=j).value\n",
    "wb1.save('file2.xlsx')\n",
    "\n",
    "i = 2\n",
    "j = 2\n",
    "\n",
    "for row in ws.iter_rows(min_row=2,max_row=5):\n",
    "# for row in ws.iter_rows(min_row=2,ws.max_row):\n",
    "#     for cell in row[1]:\n",
    "#         print(cell.value)\n",
    "    print(row[0].value)"
   ]
  },
  {
   "cell_type": "code",
   "execution_count": null,
   "metadata": {},
   "outputs": [],
   "source": []
  }
 ],
 "metadata": {
  "kernelspec": {
   "display_name": "Python 3",
   "language": "python",
   "name": "python3"
  },
  "language_info": {
   "codemirror_mode": {
    "name": "ipython",
    "version": 3
   },
   "file_extension": ".py",
   "mimetype": "text/x-python",
   "name": "python",
   "nbconvert_exporter": "python",
   "pygments_lexer": "ipython3",
   "version": "3.7.5"
  }
 },
 "nbformat": 4,
 "nbformat_minor": 2
}
