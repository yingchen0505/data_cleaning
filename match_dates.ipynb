{
 "cells": [
  {
   "cell_type": "code",
   "execution_count": 5,
   "metadata": {},
   "outputs": [
    {
     "name": "stdout",
     "output_type": "stream",
     "text": [
      "['Sheet1']\n"
     ]
    }
   ],
   "source": [
    "from openpyxl import Workbook\n",
    "from openpyxl import load_workbook\n",
    "wb = Workbook()\n",
    "wb = load_workbook('hchi_nov18.xlsx')\n",
    "print(wb.sheetnames)"
   ]
  },
  {
   "cell_type": "code",
   "execution_count": 15,
   "metadata": {},
   "outputs": [
    {
     "name": "stdout",
     "output_type": "stream",
     "text": [
      "2018-11-07 17:15:00\n",
      "2018-11-07 17:15:00\n",
      "2018-11-07 17:15:00\n",
      "2018-11-07 17:15:00\n"
     ]
    },
    {
     "name": "stderr",
     "output_type": "stream",
     "text": [
      "C:\\Users\\Yingchen\\Anaconda3\\envs\\excel\\lib\\site-packages\\ipykernel_launcher.py:1: DeprecationWarning: Call to deprecated function get_sheet_by_name (Use wb[sheetname]).\n",
      "  \"\"\"Entry point for launching an IPython kernel.\n"
     ]
    }
   ],
   "source": [
    "ws = wb.get_sheet_by_name('Sheet1')\n",
    "ws_output = wb.create_sheet(\"OutputSheet\")\n",
    "\n",
    "# two indices\n",
    "# if two datetimes are equal, copy datetime & two values to unique list\n",
    "# if two datetimes not equal, copy the smaller datetime & value to unique list, don't advance the index of the later datetime\n",
    "\n",
    "# sheet1.cell(row=i,column=j).value = sheet.cell(row=i,column=j).value\n",
    "# wb1.save('file2.xlsx')\n",
    "\n",
    "index1 = 2\n",
    "index2 = 2\n",
    "output_index = 2\n",
    "\n",
    "MIN_ROW = 2\n",
    "DATE_COL_1 = 1\n",
    "DATE_COL_2 = 4\n",
    "DATE_COL_OUTPUT = 1\n",
    "\n",
    "# for row in ws.iter_rows(min_row=MIN_ROW,max_row=5):\n",
    "# for row in ws.iter_rows(min_row=MIN_ROW,ws.max_row):\n",
    "#     for cell in row[1]:\n",
    "#         print(cell.value)\n",
    "for i in range(MIN_ROW, 6):\n",
    "# for i in range(MIN_ROW, ws.max_row + 1):\n",
    "    date1 = ws.cell(index1, DATE_COL_1).value\n",
    "    date2 = ws.cell(index2, DATE_COL_2).value\n",
    "#     print(ws.cell(index1, DATE_COL_1).value)\n",
    "#     print(ws.cell(index2, DATE_COL_2).value)\n",
    "#     if (ws.cell(index1, DATE_COL_1).value == ws.cell(index2, DATE_COL_2).value):\n",
    "    output_date_cell = ws_output.cell(output_index, DATE_COL_OUTPUT)\n",
    "    if (date1 == date2):\n",
    "#         ws_output.cell(output_index, DATE_COL_OUTPUT).value = date1\n",
    "        output_date_cell.value = date1\n",
    "        print(output_date_cell.value)\n",
    "#         print(ws_output.cell(output_index, DATE_COL_OUTPUT).value)"
   ]
  },
  {
   "cell_type": "code",
   "execution_count": null,
   "metadata": {},
   "outputs": [],
   "source": [
    "wb.save(filename = 'output_sheets.xlsx')"
   ]
  }
 ],
 "metadata": {
  "kernelspec": {
   "display_name": "Python 3",
   "language": "python",
   "name": "python3"
  },
  "language_info": {
   "codemirror_mode": {
    "name": "ipython",
    "version": 3
   },
   "file_extension": ".py",
   "mimetype": "text/x-python",
   "name": "python",
   "nbconvert_exporter": "python",
   "pygments_lexer": "ipython3",
   "version": "3.7.5"
  }
 },
 "nbformat": 4,
 "nbformat_minor": 2
}
